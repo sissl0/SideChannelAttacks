{
 "cells": [
  {
   "cell_type": "markdown",
   "metadata": {},
   "source": [
    "# Password Bypass (Aufgabe)"
   ]
  },
  {
   "cell_type": "markdown",
   "metadata": {},
   "source": [
    "---\n",
    "NOTE: This lab references some (commercial) training material on [ChipWhisperer.io](https://www.ChipWhisperer.io). You can freely execute and use the lab per the open-source license (including using it in your own courses if you distribute similarly), but you must maintain notice about this source location. Consider joining our training course to enjoy the full experience.\n",
    "\n",
    "---"
   ]
  },
  {
   "cell_type": "markdown",
   "metadata": {},
   "source": [
    "**SUMMARY:** *This tutorial will introduce you to breaking devices by determining when a device is performing certain operations. Our target device will be performing a simple password check, and we will demonstrate how to perform a basic power analysis.*\n",
    "\n",
    "**LEARNING OUTCOMES:**\n",
    "\n",
    "* How power can be used to determine timing information.\n",
    "* Plotting multiple iterations while varying input data to find interesting locations.\n",
    "* Using difference of waveforms to find interesting locations.\n",
    "* Performing power captures with ChipWhisperer hardware (hardware only)\n",
    "\n",
    "We assume, that you're set up your ChipWhispererNano and that it has the latest firmware."
   ]
  },
  {
   "cell_type": "markdown",
   "metadata": {},
   "source": [
    "## Setup"
   ]
  },
  {
   "cell_type": "markdown",
   "metadata": {},
   "source": [
    "At this point you've got to insert code to perform the power trace capture.\n",
    "\n",
    "At first, we run the setup scipt. If this does not succeed, take a look into the setup script to narrow down the error. \n",
    "\n",
    "You get to choose your adventure - see the two notebooks with the same name of this, but called `(SIMULATED)` or `(HARDWARE)` to continue. Inside those notebooks you should get some code to copy into the following section, which will define the capture function.\n",
    "\n",
    "Be sure you get the `\"✔️ OK to continue!\"` print once you run the next cell, otherwise things will fail later on!\n"
   ]
  },
  {
   "cell_type": "code",
   "execution_count": null,
   "metadata": {},
   "outputs": [],
   "source": [
    "%%capture\n",
    "# Suppresses the extra long output of the setup script.\n",
    "\n",
    "#\n",
    "# Setup CWN\n",
    "#\n",
    "%run \"./Exercise - Password Bypass - Setup.ipynb\""
   ]
  },
  {
   "cell_type": "code",
   "execution_count": null,
   "metadata": {},
   "outputs": [],
   "source": [
    "# Lets test the setup:\n",
    "trace_test = cap_pass_trace(\"test\")\n",
    "\n",
    "#Basic sanity check\n",
    "assert(len(trace_test) == 3000)\n",
    "print(\"✔️ OK to continue!\")"
   ]
  },
  {
   "cell_type": "markdown",
   "metadata": {},
   "source": [
    "## Exploration"
   ]
  },
  {
   "cell_type": "markdown",
   "metadata": {},
   "source": [
    "We know that the victim performs a password check as follows:\n",
    "\n",
    "    // The password consists of the characters abcdefghijklmnopqrstuvwxyz0123456789.\n",
    "    for(uint8_t i = 0; i < sizeof(correct_passwd); i++){\n",
    "      if (correct_passwd[i] != passwd[i]){\n",
    "        passbad = 1;\n",
    "        break;\n",
    "      }\n",
    "    }\n",
    "\n",
    "Try to perform a power analysis. In the setup script, we define the function `cap_pass_trace(\"password\")`. This function returns the power trace with 3000 samples. In order to visualize the power traces, you can use the following code."
   ]
  },
  {
   "cell_type": "code",
   "execution_count": null,
   "metadata": {},
   "outputs": [],
   "source": [
    "%matplotlib notebook\n",
    "import matplotlib.pylab as plt\n",
    "from tqdm.notebook import tqdm # Nice progressbar\n",
    "\n",
    "plt.figure(figsize=[8.4,4.8])\n",
    "for c in tqdm('abcdefghijklmnopqrstuvwxyz0123456789'):\n",
    "    trace = cap_pass_trace(c)\n",
    "    plt.plot(trace[0:400], label=c)\n",
    "plt.legend(ncol=2, bbox_to_anchor=[1.05,1], loc='upper left')\n",
    "plt.subplots_adjust(right=0.7)\n",
    "plt.show()"
   ]
  },
  {
   "cell_type": "markdown",
   "metadata": {},
   "source": [
    "Note that the powertrace always consists of 3000 samples (even if the chip is idling). In this example, the chip is ideling after about 1000 samples. Therefore, you can take a look at the ideling by changing `trace[0:400]` to `trace[1000:1500]`"
   ]
  },
  {
   "cell_type": "markdown",
   "metadata": {},
   "source": [
    "## Exercise 1"
   ]
  },
  {
   "cell_type": "markdown",
   "metadata": {},
   "source": [
    "Perform a (manual) timing / power analysis attack to determine the password.\n",
    "\n",
    "Then, automate your approach. To this end, you can define a reference trace `reference_trace = cap_pass_trace(\";\"*guessing_char_n)` for incorrectly guessing the n-th character of the password. Then, you can compare this reference trace with all the traces above. To do so, you can use the numpy functions `np.abs` and `np.sum`."
   ]
  },
  {
   "cell_type": "markdown",
   "metadata": {},
   "source": [
    "## Exercise 2"
   ]
  },
  {
   "cell_type": "markdown",
   "metadata": {},
   "source": [
    "Let us try to mitigate the attack with a first simple modification. In order to circumvent your attack, the victim waits a random period of time after the password check. In order to implement this mitigation, you proceed as follows.\n",
    "- Open `/hardware/victims/firmware/uebung_01/guess_pw.c` (from inside jupyter notebook).\n",
    "- Uncomment lines 124 - 126 and save your progess.\n",
    "- Compile and upload the new firmware by running the setup code above.\n",
    "\n",
    "Perform a manual timing / power analysis attack to determine the password and try to automate your approach."
   ]
  },
  {
   "cell_type": "markdown",
   "metadata": {},
   "source": [
    "## Exercise 3"
   ]
  },
  {
   "cell_type": "markdown",
   "metadata": {},
   "source": [
    "Let us try to further mitigate the attack with another simple modification. Now, the victim waits a random period befor and after after the password check. In order to implement this mitigation, you proceed as follows.\n",
    "- Open `/hardware/victims/firmware/uebung_01/guess_pw.c` (from inside jupyter notebook).\n",
    "- Uncomment lines 112 - 114 as well as 124 - 126 and save your progess.\n",
    "- Compile and upload the new firmware by running the setup code above.\n",
    "\n",
    "Perform a manual timing / power analysis attack to determine the password and try to automate your approach. You might w"
   ]
  },
  {
   "cell_type": "markdown",
   "metadata": {},
   "source": [
    "---\n",
    "<small>NO-FUN DISCLAIMER: This material is Copyright (C) NewAE Technology Inc., 2015-2020. ChipWhisperer is a trademark of NewAE Technology Inc., claimed in all jurisdictions, and registered in at least the United States of America, European Union, and Peoples Republic of China.\n",
    "\n",
    "Tutorials derived from our open-source work must be released under the associated open-source license, and notice of the source must be *clearly displayed*. Only original copyright holders may license or authorize other distribution - while NewAE Technology Inc. holds the copyright for many tutorials, the github repository includes community contributions which we cannot license under special terms and **must** be maintained as an open-source release. Please contact us for special permissions (where possible).\n",
    "\n",
    "THE SOFTWARE IS PROVIDED \"AS IS\", WITHOUT WARRANTY OF ANY KIND, EXPRESS OR IMPLIED, INCLUDING BUT NOT LIMITED TO THE WARRANTIES OF MERCHANTABILITY, FITNESS FOR A PARTICULAR PURPOSE AND NONINFRINGEMENT. IN NO EVENT SHALL THE AUTHORS OR COPYRIGHT HOLDERS BE LIABLE FOR ANY CLAIM, DAMAGES OR OTHER LIABILITY, WHETHER IN AN ACTION OF CONTRACT, TORT OR OTHERWISE, ARISING FROM, OUT OF OR IN CONNECTION WITH THE SOFTWARE OR THE USE OR OTHER DEALINGS IN THE SOFTWARE.</small>"
   ]
  }
 ],
 "metadata": {
  "kernelspec": {
   "display_name": "Python 3",
   "language": "python",
   "name": "python3"
  },
  "language_info": {
   "codemirror_mode": {
    "name": "ipython",
    "version": 3
   },
   "file_extension": ".py",
   "mimetype": "text/x-python",
   "name": "python",
   "nbconvert_exporter": "python",
   "pygments_lexer": "ipython3",
   "version": "3.8.5"
  },
  "toc": {
   "base_numbering": 1,
   "nav_menu": {},
   "number_sections": true,
   "sideBar": true,
   "skip_h1_title": false,
   "title_cell": "Table of Contents",
   "title_sidebar": "Contents",
   "toc_cell": false,
   "toc_position": {},
   "toc_section_display": true,
   "toc_window_display": false
  }
 },
 "nbformat": 4,
 "nbformat_minor": 2
}
